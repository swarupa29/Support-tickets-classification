{
 "cells": [
  {
   "cell_type": "code",
   "execution_count": 55,
   "metadata": {},
   "outputs": [],
   "source": [
    "#dataset- Bank support tickets\n",
    "#importing of all libraries required\n",
    "import numpy as np\n",
    "import pandas as pd\n",
    "import matplotlib.pyplot as plt\n",
    "import seaborn as sns\n"
   ]
  },
  {
   "cell_type": "code",
   "execution_count": 48,
   "metadata": {},
   "outputs": [],
   "source": [
    "#reading the dataset into a pandas dataframe\n",
    "df=pd.read_csv(r'C:\\Users\\Swarupa V\\Desktop\\IT-ticket classification\\bank_complaint.csv')"
   ]
  },
  {
   "cell_type": "code",
   "execution_count": 49,
   "metadata": {},
   "outputs": [
    {
     "data": {
      "text/html": [
       "<div>\n",
       "<style scoped>\n",
       "    .dataframe tbody tr th:only-of-type {\n",
       "        vertical-align: middle;\n",
       "    }\n",
       "\n",
       "    .dataframe tbody tr th {\n",
       "        vertical-align: top;\n",
       "    }\n",
       "\n",
       "    .dataframe thead th {\n",
       "        text-align: right;\n",
       "    }\n",
       "</style>\n",
       "<table border=\"1\" class=\"dataframe\">\n",
       "  <thead>\n",
       "    <tr style=\"text-align: right;\">\n",
       "      <th></th>\n",
       "      <th>ticket</th>\n",
       "      <th>subclass</th>\n",
       "      <th>class</th>\n",
       "      <th>class id</th>\n",
       "    </tr>\n",
       "  </thead>\n",
       "  <tbody>\n",
       "    <tr>\n",
       "      <th>0</th>\n",
       "      <td>I had recently received a check for a settleme...</td>\n",
       "      <td>Problems caused by my funds being low</td>\n",
       "      <td>bank_account</td>\n",
       "      <td>1</td>\n",
       "    </tr>\n",
       "    <tr>\n",
       "      <th>1</th>\n",
       "      <td>At Bank Of America, I have had my personal &amp; b...</td>\n",
       "      <td>Problems caused by my funds being low</td>\n",
       "      <td>bank_account</td>\n",
       "      <td>1</td>\n",
       "    </tr>\n",
       "    <tr>\n",
       "      <th>2</th>\n",
       "      <td>I Bank with Wells fargo, I went in to deposit ...</td>\n",
       "      <td>Problems caused by my funds being low</td>\n",
       "      <td>bank_account</td>\n",
       "      <td>1</td>\n",
       "    </tr>\n",
       "    <tr>\n",
       "      <th>3</th>\n",
       "      <td>Charges for my purchases were shown pending on...</td>\n",
       "      <td>Problems caused by my funds being low</td>\n",
       "      <td>bank_account</td>\n",
       "      <td>1</td>\n",
       "    </tr>\n",
       "    <tr>\n",
       "      <th>4</th>\n",
       "      <td>I made purchases after my direct deposit was m...</td>\n",
       "      <td>Problems caused by my funds being low</td>\n",
       "      <td>bank_account</td>\n",
       "      <td>1</td>\n",
       "    </tr>\n",
       "  </tbody>\n",
       "</table>\n",
       "</div>"
      ],
      "text/plain": [
       "                                              ticket  \\\n",
       "0  I had recently received a check for a settleme...   \n",
       "1  At Bank Of America, I have had my personal & b...   \n",
       "2  I Bank with Wells fargo, I went in to deposit ...   \n",
       "3  Charges for my purchases were shown pending on...   \n",
       "4  I made purchases after my direct deposit was m...   \n",
       "\n",
       "                                subclass         class  class id  \n",
       "0  Problems caused by my funds being low  bank_account         1  \n",
       "1  Problems caused by my funds being low  bank_account         1  \n",
       "2  Problems caused by my funds being low  bank_account         1  \n",
       "3  Problems caused by my funds being low  bank_account         1  \n",
       "4  Problems caused by my funds being low  bank_account         1  "
      ]
     },
     "execution_count": 49,
     "metadata": {},
     "output_type": "execute_result"
    }
   ],
   "source": [
    "#sample of the dataset\n",
    "df.head()"
   ]
  },
  {
   "cell_type": "code",
   "execution_count": 50,
   "metadata": {},
   "outputs": [
    {
     "data": {
      "text/plain": [
       "ticket      0\n",
       "subclass    0\n",
       "class       0\n",
       "class id    0\n",
       "dtype: int64"
      ]
     },
     "execution_count": 50,
     "metadata": {},
     "output_type": "execute_result"
    }
   ],
   "source": [
    "#to see if it contains any null values\n",
    "df.isnull().sum()\n",
    "#no null values"
   ]
  },
  {
   "cell_type": "code",
   "execution_count": 51,
   "metadata": {},
   "outputs": [
    {
     "data": {
      "image/png": "[encoded data removed]",
      "text/plain": [
       "<Figure size 432x288 with 1 Axes>"
      ]
     },
     "metadata": {
      "needs_background": "light"
     },
     "output_type": "display_data"
    }
   ],
   "source": [
    "#to find the number or elements in each class\n",
    "freq=list(df['class'].value_counts())\n",
    "clas=list(df['class'].unique())\n",
    "plt.bar(clas,freq)\n",
    "plt.show()\n",
    "#all classes have equal number of  tickets"
   ]
  },
  {
   "cell_type": "code",
   "execution_count": 52,
   "metadata": {},
   "outputs": [
    {
     "name": "stdout",
     "output_type": "stream",
     "text": [
      "1022\n"
     ]
    },
    {
     "data": {
      "text/plain": [
       "Text(0.5, 1.0, 'distribution of tickets based on length')"
      ]
     },
     "execution_count": 52,
     "metadata": {},
     "output_type": "execute_result"
    },
    {
     "data": {
      "image/png": "[encoded data removed]",
      "text/plain": [
       "<Figure size 432x288 with 1 Axes>"
      ]
     },
     "metadata": {
      "needs_background": "light"
     },
     "output_type": "display_data"
    }
   ],
   "source": [
    "#find the lengths of strings\n",
    "str_len=list(len(x) for x in df['ticket'])\n",
    "print(max(str_len))\n",
    "min_len=min(str_len)\n",
    "plt.hist(str_len,edgecolor='red',bins=10)\n",
    "plt.xlabel('Number of words in each ticket')\n",
    "plt.ylabel('Number of tickets')\n",
    "plt.title('distribution of tickets based on length')"
   ]
  },
  {
   "cell_type": "code",
   "execution_count": 53,
   "metadata": {},
   "outputs": [
    {
     "name": "stdout",
     "output_type": "stream",
     "text": [
      "6153\n"
     ]
    }
   ],
   "source": [
    "#to find the vocabulary of the dataset\n",
    "tickets=list(df['ticket'])\n",
    "sentances=[]\n",
    "for i in tickets:\n",
    "    j=i.split()\n",
    "    for word in j:\n",
    "        sentances.append(word)\n",
    "word=list(set(sentances))\n",
    "print(len(word))\n",
    "#there are 6153 unique words in the tickets"
   ]
  },
  {
   "cell_type": "code",
   "execution_count": 54,
   "metadata": {},
   "outputs": [
    {
     "data": {
      "text/plain": [
       "Text(0.5, 1.0, 'top 15 frequently occuring words')"
      ]
     },
     "execution_count": 54,
     "metadata": {},
     "output_type": "execute_result"
    },
    {
     "data": {
      "image/png": "[encoded data removed]",
      "text/plain": [
       "<Figure size 432x288 with 1 Axes>"
      ]
     },
     "metadata": {
      "needs_background": "light"
     },
     "output_type": "display_data"
    }
   ],
   "source": [
    "#to find the frequency of the most frequently occuring words\n",
    "from collections import Counter\n",
    "word_count = Counter(sentances)\n",
    "common=word_count.most_common(15)\n",
    "wrd=[]\n",
    "cnt=[]\n",
    "for w,c in common:\n",
    "    wrd.append(w)\n",
    "    cnt.append(c)\n",
    "plt.scatter(wrd,cnt)\n",
    "plt.xlabel('Words')\n",
    "plt.ylabel('frequency')\n",
    "plt.title('top 15 frequently occuring words')"
   ]
  },
  {
   "cell_type": "code",
   "execution_count": null,
   "metadata": {},
   "outputs": [],
   "source": []
  }
 ],
 "metadata": {
  "kernelspec": {
   "display_name": "Python 3",
   "language": "python",
   "name": "python3"
  },
  "language_info": {
   "codemirror_mode": {
    "name": "ipython",
    "version": 3
   },
   "file_extension": ".py",
   "mimetype": "text/x-python",
   "name": "python",
   "nbconvert_exporter": "python",
   "pygments_lexer": "ipython3",
   "version": "3.7.9"
  }
 },
 "nbformat": 4,
 "nbformat_minor": 4
}
