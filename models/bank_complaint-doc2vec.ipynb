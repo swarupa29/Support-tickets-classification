{
 "cells": [
  {
   "cell_type": "code",
   "execution_count": 22,
   "metadata": {},
   "outputs": [],
   "source": [
    "#dataset- Bank support tickets\n",
    "#importing of all libraries required\n",
    "import numpy as np\n",
    "import pandas as pd\n",
    "import matplotlib.pyplot as plt\n",
    "import seaborn as sns\n",
    "from nltk.tokenize import word_tokenize\n",
    "from nltk.corpus import stopwords\n",
    "import re\n",
    "from nltk.stem import WordNetLemmatizer\n",
    "from nltk.stem import PorterStemmer\n",
    "from gensim.models.doc2vec import Doc2Vec, TaggedDocument\n",
    "from sklearn.feature_extraction.text import CountVectorizer\n",
    "from sklearn.linear_model import LogisticRegression\n",
    "from sklearn.metrics import accuracy_score\n",
    "from sklearn.model_selection import train_test_split\n",
    "import pandas as pd\n",
    "from sklearn import naive_bayes\n",
    "from sklearn.metrics import roc_auc_score,accuracy_score"
   ]
  },
  {
   "cell_type": "code",
   "execution_count": 23,
   "metadata": {},
   "outputs": [
    {
     "data": {
      "text/plain": [
       "'I have been reviewing my bank statements and have realized that when I use an ATM card I am being charged as much as {$7.00} - {$10.00} per transaction. I authorize the fee from the ATM so I should see an {$2.00} - {$3.00} fee on top of the money I am withdrawing, but I am also seeing that my bank is charging me a {$2.00} fee for a balance inquiry that I never agreed to and then they charge another {$2.00} for using a non- BOA machine, this is also not disclosed. So depending on the amount taken out at the ATM, these fees could be as much as 20 % of the money withdrawn on a {$40.00} ATM transaction ( {$40.00} ) this is worse than the short term money loans. All of the fees should be disclosed when doing an ATM transaction. My Bank is Bank of America.'"
      ]
     },
     "execution_count": 23,
     "metadata": {},
     "output_type": "execute_result"
    }
   ],
   "source": [
    "#reading the dataset into a pandas dataframe\n",
    "df=pd.read_csv(r'C:\\Users\\Swarupa V\\Desktop\\IT-ticket classification\\bank_complaint.csv')\n",
    "df['ticket'][17]"
   ]
  },
  {
   "cell_type": "code",
   "execution_count": 24,
   "metadata": {},
   "outputs": [],
   "source": [
    "#preprocess text\n",
    "stop_words = set(stopwords.words('english'))\n",
    "ps = PorterStemmer()\n",
    "def preprocess(s):\n",
    "    lst=[]\n",
    "    s=' '.join(s.split()) #removes extra white spaces+ \\n,\\t\n",
    "    s=re.sub(r'[^\\w]', ' ', s) #removes symbols\n",
    "    s=s.lower()#to lower case\n",
    "    s=[ps.stem(x) for x in word_tokenize(s)]#stem words and tokentise it\n",
    "    s=[x for x in s if not x in stop_words] #remove stop words\n",
    "    return s"
   ]
  },
  {
   "cell_type": "code",
   "execution_count": 25,
   "metadata": {},
   "outputs": [],
   "source": [
    "#training the doc2vec model\n",
    "def doctovec(token_lst):\n",
    "    documents = [TaggedDocument(doc, [i]) for i, doc in enumerate(token_lst)]\n",
    "    doc2vec_model = Doc2Vec(documents, vector_size=300, window=3, min_count=1, workers=4)\n",
    "    return doc2vec_model\n",
    "    \n",
    "    "
   ]
  },
  {
   "cell_type": "code",
   "execution_count": 26,
   "metadata": {},
   "outputs": [],
   "source": [
    "#write the vectors into a file\n",
    "def filewrit(token_lst,doc2vec_model):\n",
    "    doc2vec_filename ='train_review_doc2vec.csv'\n",
    "    with open(doc2vec_filename, 'w+') as doc2vec_file:\n",
    "        header = \",\".join(str(ele) for ele in range(300))\n",
    "        doc2vec_file.write(header)\n",
    "        doc2vec_file.write(\"\\n\")\n",
    "        for row in token_lst:\n",
    "            model_vector = doc2vec_model.infer_vector(row)\n",
    "            line1 = \",\".join( [str(vector_element) for vector_element in model_vector] )\n",
    "            doc2vec_file.write(line1)\n",
    "            doc2vec_file.write('\\n')\n"
   ]
  },
  {
   "cell_type": "code",
   "execution_count": 27,
   "metadata": {},
   "outputs": [],
   "source": [
    "#calling the functions\n",
    "complaints=df['ticket']\n",
    "tokens=[]\n",
    "for s in complaints:\n",
    "    tokens.append(preprocess(s))\n",
    "#we get a list of tokens\n",
    "\n",
    "    "
   ]
  },
  {
   "cell_type": "code",
   "execution_count": 10,
   "metadata": {},
   "outputs": [],
   "source": [
    "model=doctovec(tokens)"
   ]
  },
  {
   "cell_type": "code",
   "execution_count": 28,
   "metadata": {},
   "outputs": [],
   "source": [
    "#writing document vectors into the file\n",
    "filewrit(tokens,model)"
   ]
  },
  {
   "cell_type": "code",
   "execution_count": 29,
   "metadata": {},
   "outputs": [
    {
     "name": "stdout",
     "output_type": "stream",
     "text": [
      "300\n",
      "Top 10 values in Doc2Vec inferred vector:\n",
      "[ 0.00906968  0.00789744 -0.00528141 -0.00189447 -0.02996049 -0.04532988\n",
      "  0.00974988  0.0333354  -0.01697093 -0.04704678]\n"
     ]
    }
   ],
   "source": [
    "#test\n",
    "vector = model.infer_vector(tokens[78])\n",
    "# Printing sample vector\n",
    "print(len(vector))\n",
    "print(\"Top 10 values in Doc2Vec inferred vector:\")\n",
    "print(vector[:10])"
   ]
  },
  {
   "cell_type": "code",
   "execution_count": 52,
   "metadata": {},
   "outputs": [],
   "source": [
    "#split into test and train\n",
    "ddf = pd.read_csv(r'train_review_doc2vec.csv')\n",
    "x=ddf\n",
    "y=df['class']\n",
    "X_train, X_test, y_train, y_test = train_test_split(x, y, train_size = 0.80,random_state=14)\n",
    "    "
   ]
  },
  {
   "cell_type": "code",
   "execution_count": 53,
   "metadata": {},
   "outputs": [
    {
     "name": "stdout",
     "output_type": "stream",
     "text": [
      "Final Accuracy: 0.325\n"
     ]
    }
   ],
   "source": [
    "from sklearn.tree import DecisionTreeClassifier\n",
    "clf_decision_doc2vec = DecisionTreeClassifier()\n",
    "clf_decision_doc2vec.fit(X_train, y_train)\n",
    "print (\"Final Accuracy: %s\" \n",
    "       % accuracy_score(y_test, clf_decision_doc2vec.predict(X_test)))"
   ]
  },
  {
   "cell_type": "code",
   "execution_count": 54,
   "metadata": {},
   "outputs": [
    {
     "name": "stdout",
     "output_type": "stream",
     "text": [
      "Final Accuracy: 0.25\n"
     ]
    }
   ],
   "source": [
    "final_model = LogisticRegression(multi_class='multinomial')\n",
    "final_model.fit(X_train, y_train)\n",
    "print (\"Final Accuracy: %s\" \n",
    "       % accuracy_score(y_test, final_model.predict(X_test)))"
   ]
  },
  {
   "cell_type": "code",
   "execution_count": 55,
   "metadata": {},
   "outputs": [
    {
     "name": "stdout",
     "output_type": "stream",
     "text": [
      "Final Accuracy: 0.175\n"
     ]
    }
   ],
   "source": [
    "from sklearn.ensemble import RandomForestClassifier\n",
    "clf = RandomForestClassifier(n_jobs=4, random_state=14)\n",
    "clf.fit(X_train, y_train)\n",
    "print (\"Final Accuracy: %s\" \n",
    "       % accuracy_score(y_test, clf.predict(X_test)))"
   ]
  },
  {
   "cell_type": "code",
   "execution_count": 56,
   "metadata": {},
   "outputs": [
    {
     "name": "stdout",
     "output_type": "stream",
     "text": [
      "Final Accuracy: 0.3125\n"
     ]
    }
   ],
   "source": [
    "from sklearn.neighbors import KNeighborsClassifier \n",
    "knn = KNeighborsClassifier(n_neighbors = 4).fit(X_train, y_train)\n",
    "print (\"Final Accuracy: %s\" \n",
    "       % accuracy_score(y_test, knn.predict(X_test)))"
   ]
  },
  {
   "cell_type": "code",
   "execution_count": 57,
   "metadata": {},
   "outputs": [],
   "source": [
    "#Doc2vec creates vectors for large paragraphs or text . Since this model was trained using just 400 samples, the effeciency does not increase much\n",
    "#however compared to word2vec, this model gives a better accuracy\n",
    "#KNN stands to be the best classifier with both high and low training data\n",
    "#Decision tree classifier does equally well  unlike in word2vec"
   ]
  },
  {
   "cell_type": "code",
   "execution_count": null,
   "metadata": {},
   "outputs": [],
   "source": []
  }
 ],
 "metadata": {
  "kernelspec": {
   "display_name": "Python 3",
   "language": "python",
   "name": "python3"
  },
  "language_info": {
   "codemirror_mode": {
    "name": "ipython",
    "version": 3
   },
   "file_extension": ".py",
   "mimetype": "text/x-python",
   "name": "python",
   "nbconvert_exporter": "python",
   "pygments_lexer": "ipython3",
   "version": "3.7.9"
  }
 },
 "nbformat": 4,
 "nbformat_minor": 4
}
