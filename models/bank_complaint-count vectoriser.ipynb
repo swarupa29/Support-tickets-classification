{
 "cells": [
  {
   "cell_type": "code",
   "execution_count": 17,
   "metadata": {},
   "outputs": [],
   "source": [
    "#importing the necessary libraries\n",
    "import pandas as pd\n",
    "import nltk\n",
    "import matplotlib as plt\n",
    "import sklearn\n",
    "from nltk.tokenize import word_tokenize\n",
    "from nltk.corpus import stopwords\n",
    "import re\n",
    "from nltk.stem import WordNetLemmatizer\n",
    "from nltk.stem import PorterStemmer\n",
    "from sklearn.feature_extraction.text import CountVectorizer\n",
    "from sklearn.linear_model import LogisticRegression\n",
    "from sklearn.metrics import accuracy_score\n",
    "from sklearn.model_selection import train_test_split\n",
    "import pandas as pd\n",
    "from sklearn import naive_bayes\n",
    "from sklearn.metrics import roc_auc_score,accuracy_score"
   ]
  },
  {
   "cell_type": "code",
   "execution_count": 2,
   "metadata": {},
   "outputs": [],
   "source": [
    "#reading the dataset\n",
    "df=pd.read_csv(r'C:\\Users\\Swarupa V\\Desktop\\IT-ticket classification\\bank_complaint.csv')"
   ]
  },
  {
   "cell_type": "code",
   "execution_count": 3,
   "metadata": {},
   "outputs": [
    {
     "data": {
      "text/html": [
       "<div>\n",
       "<style scoped>\n",
       "    .dataframe tbody tr th:only-of-type {\n",
       "        vertical-align: middle;\n",
       "    }\n",
       "\n",
       "    .dataframe tbody tr th {\n",
       "        vertical-align: top;\n",
       "    }\n",
       "\n",
       "    .dataframe thead th {\n",
       "        text-align: right;\n",
       "    }\n",
       "</style>\n",
       "<table border=\"1\" class=\"dataframe\">\n",
       "  <thead>\n",
       "    <tr style=\"text-align: right;\">\n",
       "      <th></th>\n",
       "      <th>ticket</th>\n",
       "      <th>subclass</th>\n",
       "      <th>class</th>\n",
       "      <th>class id</th>\n",
       "    </tr>\n",
       "  </thead>\n",
       "  <tbody>\n",
       "    <tr>\n",
       "      <th>0</th>\n",
       "      <td>I had recently received a check for a settleme...</td>\n",
       "      <td>Problems caused by my funds being low</td>\n",
       "      <td>bank_account</td>\n",
       "      <td>1</td>\n",
       "    </tr>\n",
       "    <tr>\n",
       "      <th>1</th>\n",
       "      <td>At Bank Of America, I have had my personal &amp; b...</td>\n",
       "      <td>Problems caused by my funds being low</td>\n",
       "      <td>bank_account</td>\n",
       "      <td>1</td>\n",
       "    </tr>\n",
       "    <tr>\n",
       "      <th>2</th>\n",
       "      <td>I Bank with Wells fargo, I went in to deposit ...</td>\n",
       "      <td>Problems caused by my funds being low</td>\n",
       "      <td>bank_account</td>\n",
       "      <td>1</td>\n",
       "    </tr>\n",
       "    <tr>\n",
       "      <th>3</th>\n",
       "      <td>Charges for my purchases were shown pending on...</td>\n",
       "      <td>Problems caused by my funds being low</td>\n",
       "      <td>bank_account</td>\n",
       "      <td>1</td>\n",
       "    </tr>\n",
       "    <tr>\n",
       "      <th>4</th>\n",
       "      <td>I made purchases after my direct deposit was m...</td>\n",
       "      <td>Problems caused by my funds being low</td>\n",
       "      <td>bank_account</td>\n",
       "      <td>1</td>\n",
       "    </tr>\n",
       "  </tbody>\n",
       "</table>\n",
       "</div>"
      ],
      "text/plain": [
       "                                              ticket  \\\n",
       "0  I had recently received a check for a settleme...   \n",
       "1  At Bank Of America, I have had my personal & b...   \n",
       "2  I Bank with Wells fargo, I went in to deposit ...   \n",
       "3  Charges for my purchases were shown pending on...   \n",
       "4  I made purchases after my direct deposit was m...   \n",
       "\n",
       "                                subclass         class  class id  \n",
       "0  Problems caused by my funds being low  bank_account         1  \n",
       "1  Problems caused by my funds being low  bank_account         1  \n",
       "2  Problems caused by my funds being low  bank_account         1  \n",
       "3  Problems caused by my funds being low  bank_account         1  \n",
       "4  Problems caused by my funds being low  bank_account         1  "
      ]
     },
     "execution_count": 3,
     "metadata": {},
     "output_type": "execute_result"
    }
   ],
   "source": [
    "df.head()"
   ]
  },
  {
   "cell_type": "code",
   "execution_count": 4,
   "metadata": {},
   "outputs": [
    {
     "data": {
      "text/plain": [
       "ticket      0\n",
       "subclass    0\n",
       "class       0\n",
       "class id    0\n",
       "dtype: int64"
      ]
     },
     "execution_count": 4,
     "metadata": {},
     "output_type": "execute_result"
    }
   ],
   "source": [
    "#finding null values\n",
    "df.isnull().sum()"
   ]
  },
  {
   "cell_type": "code",
   "execution_count": 5,
   "metadata": {},
   "outputs": [],
   "source": [
    "x=list(df['ticket'])"
   ]
  },
  {
   "cell_type": "code",
   "execution_count": 18,
   "metadata": {},
   "outputs": [],
   "source": [
    "#we need to remove numbers,symbols as they don't help in determining class, convert all to lower case, remove stop words, and lemmatize the word\n",
    "stop_words = set(stopwords.words('english'))\n",
    "ps = PorterStemmer()\n",
    "def preprocess(s):\n",
    "    lst=[]\n",
    "    s=' '.join(s.split()) #removes extra white spaces+ \\n,\\t\n",
    "    s=re.sub(r'[^\\w]', ' ', s) #removes symbols\n",
    "    s=s.lower()#to lower case\n",
    "    s=[ps.stem(x) for x in word_tokenize(s)]#stem words and tokentise it\n",
    "    s=[x for x in s if not x in stop_words] #remove stop words\n",
    "    \n",
    "    return s"
   ]
  },
  {
   "cell_type": "code",
   "execution_count": 35,
   "metadata": {},
   "outputs": [],
   "source": [
    "#calling preprocess\n",
    "X=[]\n",
    "for s in x:\n",
    "    s=preprocess(s)\n",
    "    X.append(' '.join(s))"
   ]
  },
  {
   "cell_type": "code",
   "execution_count": 36,
   "metadata": {},
   "outputs": [
    {
     "data": {
      "text/plain": [
       "'appear rebil payment made prior statement wa paid full amount question 330 00 balanc due 2015 statement paid full assum payment credit new charg amount correct current statement wa state amount previou period payment wa made thu instead new balanc due 650 00 would 310 00 howev appli standard account practic calcul charg less ani credit identifi balanc charg credit statement without deal ani prior payment made payment full pay time sub account get follow audit charg statement agre 2100 00 less credit shown statement incl ani previou payment 1900 00 balanc due 240 00 tri reconcil thi issu written phone commun howev'"
      ]
     },
     "execution_count": 36,
     "metadata": {},
     "output_type": "execute_result"
    }
   ],
   "source": [
    "X[157]"
   ]
  },
  {
   "cell_type": "code",
   "execution_count": 50,
   "metadata": {},
   "outputs": [],
   "source": [
    "#fitting the preprocessed data through a count vectoriser to represent each word as a vector of its frequency\n",
    "cv = CountVectorizer(binary=True)\n",
    "cv.fit(X)\n",
    "x_final=cv.transform(X)"
   ]
  },
  {
   "cell_type": "code",
   "execution_count": 51,
   "metadata": {},
   "outputs": [],
   "source": [
    "y=df['class']"
   ]
  },
  {
   "cell_type": "code",
   "execution_count": 89,
   "metadata": {},
   "outputs": [],
   "source": [
    "X_train, X_test, y_train, y_test = train_test_split(x_final, y, train_size = 0.75,random_state=14)"
   ]
  },
  {
   "cell_type": "code",
   "execution_count": 91,
   "metadata": {},
   "outputs": [
    {
     "name": "stdout",
     "output_type": "stream",
     "text": [
      "Final Accuracy: 0.81\n"
     ]
    }
   ],
   "source": [
    "#Multinomial Naive Bayes\n",
    "clf = naive_bayes.MultinomialNB()\n",
    "clf.fit(X_train, y_train)\n",
    "print (\"Final Accuracy: %s\" % accuracy_score(y_test, clf.predict(X_test)))"
   ]
  },
  {
   "cell_type": "code",
   "execution_count": 92,
   "metadata": {},
   "outputs": [
    {
     "name": "stdout",
     "output_type": "stream",
     "text": [
      "Final Accuracy: 0.84\n"
     ]
    }
   ],
   "source": [
    "#multi class logistic regression\n",
    "final_model = LogisticRegression(multi_class='multinomial')\n",
    "final_model.fit(X_train, y_train)\n",
    "print (\"Final Accuracy: %s\"  % accuracy_score(y_test, final_model.predict(X_test)))"
   ]
  },
  {
   "cell_type": "code",
   "execution_count": 93,
   "metadata": {},
   "outputs": [
    {
     "name": "stdout",
     "output_type": "stream",
     "text": [
      "Final Accuracy: 0.86\n"
     ]
    }
   ],
   "source": [
    "#random forest\n",
    "from sklearn.ensemble import RandomForestClassifier\n",
    "clf = RandomForestClassifier(n_jobs=2, random_state=14)\n",
    "clf.fit(X_train, y_train)\n",
    "print (\"Final Accuracy: %s\" % accuracy_score(y_test, clf.predict(X_test)))"
   ]
  },
  {
   "cell_type": "code",
   "execution_count": 94,
   "metadata": {},
   "outputs": [
    {
     "name": "stdout",
     "output_type": "stream",
     "text": [
      "Final Accuracy: 0.68\n"
     ]
    }
   ],
   "source": [
    "#decision trees\n",
    "from sklearn.tree import DecisionTreeClassifier\n",
    "clf=DecisionTreeClassifier(max_depth = 4)\n",
    "clf.fit(X_train, y_train)\n",
    "print (\"Final Accuracy: %s\" % accuracy_score(y_test, clf.predict(X_test)))"
   ]
  },
  {
   "cell_type": "code",
   "execution_count": 95,
   "metadata": {},
   "outputs": [
    {
     "name": "stdout",
     "output_type": "stream",
     "text": [
      "Final Accuracy: 0.44\n"
     ]
    }
   ],
   "source": [
    "#KNN classifier\n",
    "from sklearn.neighbors import KNeighborsClassifier \n",
    "knn = KNeighborsClassifier(n_neighbors = 4).fit(X_train, y_train)\n",
    "print (\"Final Accuracy: %s\" % accuracy_score(y_test, knn.predict(X_test)))"
   ]
  },
  {
   "cell_type": "code",
   "execution_count": 96,
   "metadata": {},
   "outputs": [],
   "source": [
    "#On using count vectorisation to encode text, it was noticed that\n",
    "#Random forests give the maximum accuracy when training data is less \n",
    "#logistic regression, Multinomial Naive Bayes gives the maximum accuracy when training data is more"
   ]
  },
  {
   "cell_type": "code",
   "execution_count": null,
   "metadata": {},
   "outputs": [],
   "source": []
  }
 ],
 "metadata": {
  "kernelspec": {
   "display_name": "Python 3",
   "language": "python",
   "name": "python3"
  },
  "language_info": {
   "codemirror_mode": {
    "name": "ipython",
    "version": 3
   },
   "file_extension": ".py",
   "mimetype": "text/x-python",
   "name": "python",
   "nbconvert_exporter": "python",
   "pygments_lexer": "ipython3",
   "version": "3.7.9"
  }
 },
 "nbformat": 4,
 "nbformat_minor": 4
}
