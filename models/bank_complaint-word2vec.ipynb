{
 "cells": [
  {
   "cell_type": "code",
   "execution_count": 25,
   "metadata": {},
   "outputs": [],
   "source": [
    "import pandas as pd\n",
    "import nltk\n",
    "import matplotlib as plt\n",
    "import sklearn\n",
    "from nltk.tokenize import word_tokenize\n",
    "from nltk.corpus import stopwords\n",
    "import re\n",
    "import gensim\n",
    "from nltk.stem import WordNetLemmatizer\n",
    "from nltk.stem import PorterStemmer\n",
    "from gensim.models.doc2vec import Doc2Vec, TaggedDocument\n",
    "from sklearn.feature_extraction.text import CountVectorizer\n",
    "from sklearn.linear_model import LogisticRegression\n",
    "from sklearn.metrics import accuracy_score\n",
    "from sklearn.model_selection import train_test_split\n",
    "import pandas as pd\n",
    "from sklearn import naive_bayes\n",
    "from sklearn.metrics import roc_auc_score,accuracy_score"
   ]
  },
  {
   "cell_type": "code",
   "execution_count": 26,
   "metadata": {},
   "outputs": [],
   "source": [
    "df=pd.read_csv(r'C:\\Users\\Swarupa V\\Desktop\\IT-ticket classification\\bank_complaint.csv')"
   ]
  },
  {
   "cell_type": "code",
   "execution_count": 27,
   "metadata": {},
   "outputs": [
    {
     "data": {
      "text/html": [
       "<div>\n",
       "<style scoped>\n",
       "    .dataframe tbody tr th:only-of-type {\n",
       "        vertical-align: middle;\n",
       "    }\n",
       "\n",
       "    .dataframe tbody tr th {\n",
       "        vertical-align: top;\n",
       "    }\n",
       "\n",
       "    .dataframe thead th {\n",
       "        text-align: right;\n",
       "    }\n",
       "</style>\n",
       "<table border=\"1\" class=\"dataframe\">\n",
       "  <thead>\n",
       "    <tr style=\"text-align: right;\">\n",
       "      <th></th>\n",
       "      <th>ticket</th>\n",
       "      <th>subclass</th>\n",
       "      <th>class</th>\n",
       "      <th>class id</th>\n",
       "    </tr>\n",
       "  </thead>\n",
       "  <tbody>\n",
       "    <tr>\n",
       "      <th>0</th>\n",
       "      <td>I had recently received a check for a settleme...</td>\n",
       "      <td>Problems caused by my funds being low</td>\n",
       "      <td>bank_account</td>\n",
       "      <td>1</td>\n",
       "    </tr>\n",
       "    <tr>\n",
       "      <th>1</th>\n",
       "      <td>At Bank Of America, I have had my personal &amp; b...</td>\n",
       "      <td>Problems caused by my funds being low</td>\n",
       "      <td>bank_account</td>\n",
       "      <td>1</td>\n",
       "    </tr>\n",
       "    <tr>\n",
       "      <th>2</th>\n",
       "      <td>I Bank with Wells fargo, I went in to deposit ...</td>\n",
       "      <td>Problems caused by my funds being low</td>\n",
       "      <td>bank_account</td>\n",
       "      <td>1</td>\n",
       "    </tr>\n",
       "    <tr>\n",
       "      <th>3</th>\n",
       "      <td>Charges for my purchases were shown pending on...</td>\n",
       "      <td>Problems caused by my funds being low</td>\n",
       "      <td>bank_account</td>\n",
       "      <td>1</td>\n",
       "    </tr>\n",
       "    <tr>\n",
       "      <th>4</th>\n",
       "      <td>I made purchases after my direct deposit was m...</td>\n",
       "      <td>Problems caused by my funds being low</td>\n",
       "      <td>bank_account</td>\n",
       "      <td>1</td>\n",
       "    </tr>\n",
       "  </tbody>\n",
       "</table>\n",
       "</div>"
      ],
      "text/plain": [
       "                                              ticket  \\\n",
       "0  I had recently received a check for a settleme...   \n",
       "1  At Bank Of America, I have had my personal & b...   \n",
       "2  I Bank with Wells fargo, I went in to deposit ...   \n",
       "3  Charges for my purchases were shown pending on...   \n",
       "4  I made purchases after my direct deposit was m...   \n",
       "\n",
       "                                subclass         class  class id  \n",
       "0  Problems caused by my funds being low  bank_account         1  \n",
       "1  Problems caused by my funds being low  bank_account         1  \n",
       "2  Problems caused by my funds being low  bank_account         1  \n",
       "3  Problems caused by my funds being low  bank_account         1  \n",
       "4  Problems caused by my funds being low  bank_account         1  "
      ]
     },
     "execution_count": 27,
     "metadata": {},
     "output_type": "execute_result"
    }
   ],
   "source": [
    "df.head()"
   ]
  },
  {
   "cell_type": "code",
   "execution_count": 28,
   "metadata": {},
   "outputs": [],
   "source": [
    "#function to preprocess text \n",
    "stop_words = set(stopwords.words('english'))\n",
    "ps = PorterStemmer()\n",
    "def preprocess(s):\n",
    "    lst=[]\n",
    "    s=' '.join(s.split()) #removes extra white spaces+ \\n,\\t\n",
    "    s=re.sub(r'[^\\w]', ' ', s) #removes symbols\n",
    "    s=s.lower()#to lower case\n",
    "    s=[ps.stem(x) for x in word_tokenize(s)]#stem words and tokentise it\n",
    "    s=[x for x in s if not x in stop_words] #remove stop words\n",
    "    \n",
    "    return s"
   ]
  },
  {
   "cell_type": "code",
   "execution_count": 34,
   "metadata": {},
   "outputs": [],
   "source": [
    "#function to train word2vec model\n",
    "def w2vmodel(vocab):\n",
    "    model = gensim.models.Word2Vec(vocab, size=300, min_count=1, workers=4)\n",
    "    model.train(t, total_examples=len(vocab), epochs=400)\n",
    "    return model"
   ]
  },
  {
   "cell_type": "code",
   "execution_count": 35,
   "metadata": {},
   "outputs": [],
   "source": [
    "#function to write the vectors of text into a file\n",
    "def filewrit(token_lst,wrd2vec_model):\n",
    "    wrd2vec_filename ='train_review_wrd2vec.csv'\n",
    "    with open(wrd2vec_filename, 'w+') as wrd2vec_file:\n",
    "        header = \",\".join(str(ele) for ele in range(1022))\n",
    "        wrd2vec_file.write(header)\n",
    "        wrd2vec_file.write(\"\\n\")\n",
    "        for row in token_lst:\n",
    "            line1 = \",\".join( [str(vector_element) for vector_element in row] )\n",
    "            wrd2vec_file.write(line1)\n",
    "            line2=\",\".join([str(0) for i in range(1025-len(row))])\n",
    "            wrd2vec_file.write(line2)\n",
    "            wrd2vec_file.write('\\n')"
   ]
  },
  {
   "cell_type": "code",
   "execution_count": 36,
   "metadata": {},
   "outputs": [],
   "source": [
    "#calling the preprocess function\n",
    "complaints=df['ticket']\n",
    "t=[]\n",
    "for s in complaints:\n",
    "    t.append(preprocess(s))"
   ]
  },
  {
   "cell_type": "code",
   "execution_count": 37,
   "metadata": {},
   "outputs": [],
   "source": [
    "#calling the model function\n",
    "model=w2vmodel(t)"
   ]
  },
  {
   "cell_type": "code",
   "execution_count": 38,
   "metadata": {},
   "outputs": [],
   "source": [
    "#obtaining the vectors for each word in a sentance and using its mean to represent the word\n",
    "import numpy as np\n",
    "x=[]\n",
    "x_final=[]\n",
    "for mail in complaints:\n",
    "    x=[]\n",
    "    for word in mail:\n",
    "        if word in model.wv.vocab:\n",
    "            x.append(np.mean(model.wv[word]))\n",
    "        else:\n",
    "            x.append(0)\n",
    "    x_final.append(x)\n",
    "filewrit(x_final,model)"
   ]
  },
  {
   "cell_type": "code",
   "execution_count": 57,
   "metadata": {},
   "outputs": [],
   "source": [
    "ddf = pd.read_csv(r'train_review_wrd2vec.csv')\n",
    "x=ddf\n",
    "y=df['class']\n",
    "X_train, X_test, y_train, y_test = train_test_split(x, y, train_size = 0.80,random_state=14)"
   ]
  },
  {
   "cell_type": "code",
   "execution_count": 58,
   "metadata": {},
   "outputs": [
    {
     "name": "stdout",
     "output_type": "stream",
     "text": [
      "Final Accuracy: 0.1875\n"
     ]
    }
   ],
   "source": [
    "#Descision tree\n",
    "from sklearn.tree import DecisionTreeClassifier\n",
    "clf_decision_doc2vec = DecisionTreeClassifier()\n",
    "clf_decision_doc2vec.fit(X_train, y_train)\n",
    "print (\"Final Accuracy: %s\" \n",
    "       % accuracy_score(y_test, clf_decision_doc2vec.predict(X_test)))"
   ]
  },
  {
   "cell_type": "code",
   "execution_count": 59,
   "metadata": {},
   "outputs": [
    {
     "name": "stdout",
     "output_type": "stream",
     "text": [
      "Final Accuracy: 0.2875\n"
     ]
    }
   ],
   "source": [
    "#multi class logistic regression\n",
    "final_model = LogisticRegression(multi_class='multinomial')\n",
    "final_model.fit(X_train, y_train)\n",
    "print (\"Final Accuracy: %s\" \n",
    "       % accuracy_score(y_test, final_model.predict(X_test)))"
   ]
  },
  {
   "cell_type": "code",
   "execution_count": 60,
   "metadata": {},
   "outputs": [
    {
     "name": "stdout",
     "output_type": "stream",
     "text": [
      "Final Accuracy: 0.3125\n"
     ]
    }
   ],
   "source": [
    "#K nearest neighbours\n",
    "from sklearn.neighbors import KNeighborsClassifier \n",
    "knn = KNeighborsClassifier(n_neighbors = 4).fit(X_train, y_train)\n",
    "print (\"Final Accuracy: %s\" \n",
    "       % accuracy_score(y_test, knn.predict(X_test)))"
   ]
  },
  {
   "cell_type": "code",
   "execution_count": 62,
   "metadata": {},
   "outputs": [
    {
     "name": "stdout",
     "output_type": "stream",
     "text": [
      "Final Accuracy: 0.2875\n"
     ]
    }
   ],
   "source": [
    "#random forest\n",
    "from sklearn.ensemble import RandomForestClassifier\n",
    "clf = RandomForestClassifier(n_jobs=2, random_state=14)\n",
    "clf.fit(X_train, y_train)\n",
    "print (\"Final Accuracy: %s\" \n",
    "       % accuracy_score(y_test, clf.predict(X_test)))"
   ]
  },
  {
   "cell_type": "code",
   "execution_count": 56,
   "metadata": {},
   "outputs": [],
   "source": [
    "# Using the word2vec model, we find similarity between 2 words. The model has been trained with the 6000 odd  vocabalary from the dataset\n",
    "#the model would have performed well with  more data or using a pre-trained model\n",
    "# KNN gives the best accuracy when training dataset is small while logistic regression for a larger training data"
   ]
  },
  {
   "cell_type": "code",
   "execution_count": null,
   "metadata": {},
   "outputs": [],
   "source": []
  }
 ],
 "metadata": {
  "kernelspec": {
   "display_name": "Python 3",
   "language": "python",
   "name": "python3"
  },
  "language_info": {
   "codemirror_mode": {
    "name": "ipython",
    "version": 3
   },
   "file_extension": ".py",
   "mimetype": "text/x-python",
   "name": "python",
   "nbconvert_exporter": "python",
   "pygments_lexer": "ipython3",
   "version": "3.7.9"
  }
 },
 "nbformat": 4,
 "nbformat_minor": 4
}
